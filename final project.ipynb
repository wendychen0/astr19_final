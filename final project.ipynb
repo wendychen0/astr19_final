{
 "cells": [
  {
   "cell_type": "markdown",
   "id": "d39a8210",
   "metadata": {},
   "source": [
    "# Final Project on the Hubble Ultra Deep Field (UDF f105w image)"
   ]
  },
  {
   "cell_type": "code",
   "execution_count": null,
   "id": "6721a774",
   "metadata": {},
   "outputs": [],
   "source": [
    "import numpy as np\n",
    "import sep"
   ]
  },
  {
   "cell_type": "code",
   "execution_count": null,
   "id": "f3536db7",
   "metadata": {},
   "outputs": [],
   "source": [
    "# additional setup for reading the test image and displaying plots\n",
    "from astropy.io import fits\n",
    "import astropy.io.fits\n",
    "import matplotlib.pyplot as plt\n",
    "from matplotlib import rcParams\n",
    "\n",
    "%matplotlib inline\n",
    "\n",
    "rcParams['figure.figsize'] = [10., 8.]"
   ]
  },
  {
   "cell_type": "markdown",
   "id": "1043443b",
   "metadata": {},
   "source": [
    "Read an UDF image from a FITS file and display it"
   ]
  },
  {
   "cell_type": "code",
   "execution_count": null,
   "id": "4e6680ae",
   "metadata": {},
   "outputs": [],
   "source": [
    "# read image into standard 2-d numpy array\n",
    "data = fits.getdata(\"hlsp_hudf12_hst_wfc3ir_udfmain_f105w_v1.0_drz.fits\", ext=0)"
   ]
  },
  {
   "cell_type": "code",
   "execution_count": null,
   "id": "2f4083d8",
   "metadata": {},
   "outputs": [],
   "source": [
    "# show the image\n",
    "m, s = np.mean(data), np.std(data)\n",
    "plt.imshow(data, interpolation='nearest', cmap='gray', vmin=m-s, vmax=m+s, origin='lower')\n",
    "plt.colorbar();\n",
    "plt.savefig('f105wfit.png')"
   ]
  },
  {
   "cell_type": "markdown",
   "id": "f7fa0681",
   "metadata": {},
   "source": [
    "### Background Subtraction"
   ]
  },
  {
   "cell_type": "code",
   "execution_count": null,
   "id": "ab755d77",
   "metadata": {},
   "outputs": [],
   "source": [
    "# measure a spatially varying background on the image\n",
    "data = data.byteswap().newbyteorder()\n",
    "bkg = sep.Background(data)"
   ]
  },
  {
   "cell_type": "code",
   "execution_count": null,
   "id": "9193a8c3",
   "metadata": {
    "scrolled": true
   },
   "outputs": [],
   "source": [
    "# get a \"global\" mean and noise of the image background:\n",
    "print(bkg.globalback)\n",
    "print(bkg.globalrms)"
   ]
  },
  {
   "cell_type": "code",
   "execution_count": null,
   "id": "a2695967",
   "metadata": {},
   "outputs": [],
   "source": [
    "# evaluate background as 2-d array, same size as original image\n",
    "bkg_image = bkg.back()"
   ]
  },
  {
   "cell_type": "code",
   "execution_count": null,
   "id": "ccb5742b",
   "metadata": {},
   "outputs": [],
   "source": [
    "# show the background\n",
    "plt.imshow(bkg_image, interpolation='nearest', cmap='gray', origin='lower')\n",
    "plt.colorbar();\n",
    "plt.savefig('f105wbkground.png')"
   ]
  },
  {
   "cell_type": "code",
   "execution_count": null,
   "id": "3a615efa",
   "metadata": {},
   "outputs": [],
   "source": [
    "# evaluate the background noise as 2-d array, same size as original image\n",
    "bkg_rms = bkg.rms()"
   ]
  },
  {
   "cell_type": "code",
   "execution_count": null,
   "id": "2e33efa6",
   "metadata": {},
   "outputs": [],
   "source": [
    "# show the background noise\n",
    "plt.imshow(bkg_rms, interpolation='nearest', cmap='gray', origin='lower')\n",
    "plt.colorbar();\n",
    "plt.savefig('f105wbkgrnoise.png')"
   ]
  },
  {
   "cell_type": "code",
   "execution_count": null,
   "id": "ce219f32",
   "metadata": {},
   "outputs": [],
   "source": [
    "# subtract the background\n",
    "data_sub = data - bkg"
   ]
  },
  {
   "cell_type": "markdown",
   "id": "ac98166a",
   "metadata": {},
   "source": [
    "### Object Detection"
   ]
  },
  {
   "cell_type": "markdown",
   "id": "80428e9f",
   "metadata": {},
   "source": [
    "Setting the detection threshold to be a constant value of 4σ where σ is the global background RMS."
   ]
  },
  {
   "cell_type": "code",
   "execution_count": null,
   "id": "98eabcbc",
   "metadata": {},
   "outputs": [],
   "source": [
    "objects = sep.extract(data_sub, 4, err=bkg.globalrms)"
   ]
  },
  {
   "cell_type": "markdown",
   "id": "f8a75058",
   "metadata": {},
   "source": [
    "#### Sources detected"
   ]
  },
  {
   "cell_type": "code",
   "execution_count": null,
   "id": "fcef4908",
   "metadata": {},
   "outputs": [],
   "source": [
    "# how many objects were detected\n",
    "len(objects)"
   ]
  },
  {
   "cell_type": "markdown",
   "id": "331b5fe3",
   "metadata": {},
   "source": [
    "To check where the detected objects are, over-plot the object coordinates with some basic shape parameters on the image"
   ]
  },
  {
   "cell_type": "code",
   "execution_count": null,
   "id": "70a15250",
   "metadata": {},
   "outputs": [],
   "source": [
    "from matplotlib.patches import Ellipse\n",
    "\n",
    "# plot background-subtracted image\n",
    "fig, ax = plt.subplots()\n",
    "m, s = np.mean(data_sub), np.std(data_sub)\n",
    "im = ax.imshow(data_sub, interpolation='nearest', cmap='gray',\n",
    "               vmin=m-s, vmax=m+s, origin='lower')\n",
    "\n",
    "# plot an ellipse for each object\n",
    "for i in range(len(objects)):\n",
    "    e = Ellipse(xy=(objects['x'][i], objects['y'][i]),\n",
    "                width=6*objects['a'][i],\n",
    "                height=6*objects['b'][i],\n",
    "                angle=objects['theta'][i] * 180. / np.pi)\n",
    "    e.set_facecolor('none')\n",
    "    e.set_edgecolor('red')\n",
    "    ax.add_artist(e)\n",
    "plt.savefig('f105wobjdetect.png')"
   ]
  },
  {
   "cell_type": "markdown",
   "id": "75c8d663",
   "metadata": {},
   "source": [
    "### Aperture photometry"
   ]
  },
  {
   "cell_type": "markdown",
   "id": "bd8818e1",
   "metadata": {},
   "source": [
    "Perform simple circular aperture photometry with a 3 pixel radius at the locations of the objects"
   ]
  },
  {
   "cell_type": "code",
   "execution_count": null,
   "id": "688288cf",
   "metadata": {},
   "outputs": [],
   "source": [
    "flux, fluxerr, flag = sep.sum_circle(data_sub, objects['x'], objects['y'],\n",
    "                                     3.0, err=bkg.globalrms, gain=1.0)"
   ]
  },
  {
   "cell_type": "code",
   "execution_count": null,
   "id": "17f3a3fb",
   "metadata": {},
   "outputs": [],
   "source": [
    "# show the first 10 objects results:\n",
    "for i in range(10):\n",
    "    print(\"object {:d}: flux = {:f} +/- {:f}\".format(i, flux[i], fluxerr[i]))"
   ]
  },
  {
   "cell_type": "markdown",
   "id": "cc0cb29e",
   "metadata": {},
   "source": [
    "### Step 6 Histogram the Fluxes"
   ]
  },
  {
   "cell_type": "code",
   "execution_count": null,
   "id": "4a66ac13",
   "metadata": {
    "scrolled": true
   },
   "outputs": [],
   "source": [
    "n = len(flux)  #number of points\n",
    "\n",
    "width = 0.1\n",
    "histmin = np.floor(min(flux))\n",
    "histmax = 6\n",
    "bins = np.arange(histmin,histmax,width)\n",
    "plt.hist(flux, bins=bins, alpha=0.5, edgecolor=\"black\")\n",
    "plt.ylabel(\"N per bin\")\n",
    "plt.xlabel(\"flux\")\n",
    "plt.savefig('f105whisto.png')"
   ]
  },
  {
   "cell_type": "code",
   "execution_count": null,
   "id": "8a59762a",
   "metadata": {},
   "outputs": [],
   "source": [
    "for i in flux:\n",
    "    print(i)"
   ]
  },
  {
   "cell_type": "markdown",
   "id": "006a3228",
   "metadata": {},
   "source": [
    "### Step 7 Mean, median, and standard deviation of the distribution of fluxes"
   ]
  },
  {
   "cell_type": "code",
   "execution_count": null,
   "id": "52556e17",
   "metadata": {},
   "outputs": [],
   "source": [
    "print(f\"Mean: {np.mean(flux)}\")\n",
    "print(f\"Median: {np.median(flux)}\")\n",
    "print(f\"Standard Deviation: {np.std(flux)}\")"
   ]
  },
  {
   "cell_type": "code",
   "execution_count": null,
   "id": "362fd87d",
   "metadata": {},
   "outputs": [],
   "source": [
    "print(f\"The largest outlier is: {max(flux)}\")"
   ]
  },
  {
   "cell_type": "markdown",
   "id": "c271ba62",
   "metadata": {},
   "source": [
    "#### Where the outlier is"
   ]
  },
  {
   "cell_type": "code",
   "execution_count": null,
   "id": "777c88e1",
   "metadata": {},
   "outputs": [],
   "source": [
    "# plot background-subtracted image\n",
    "fig, ax = plt.subplots()\n",
    "m, s = np.mean(data_sub), np.std(data_sub)\n",
    "im = ax.imshow(data_sub, interpolation='nearest', cmap='gray',\n",
    "               vmin=m-s, vmax=m+s, origin='lower')\n",
    "\n",
    "# plot an ellipse for each object\n",
    "for i in range(len(objects)):\n",
    "    e = Ellipse(xy=(objects['x'][i], objects['y'][i]),\n",
    "                width=6*objects['a'][i],\n",
    "                height=6*objects['b'][i],\n",
    "                angle=objects['theta'][i] * 180. / np.pi)\n",
    "    e.set_facecolor('none')\n",
    "    if (flux[i]==max(flux)):\n",
    "        e.set_edgecolor('red')\n",
    "    ax.add_artist(e)\n",
    "\n",
    "plt.savefig('f105woutlier.png')"
   ]
  },
  {
   "cell_type": "code",
   "execution_count": null,
   "id": "7dd58f19",
   "metadata": {},
   "outputs": [],
   "source": [
    "for i in objects:\n",
    "    print(i)"
   ]
  },
  {
   "cell_type": "markdown",
   "id": "c594fedb",
   "metadata": {},
   "source": [
    "### Step 8 make a 3-color false image of the UDF using RGB -> f160w, f125w, f105w"
   ]
  },
  {
   "cell_type": "code",
   "execution_count": null,
   "id": "99197969",
   "metadata": {},
   "outputs": [],
   "source": [
    "import matplotlib.colors as colors\n",
    "from astropy.io import fits"
   ]
  },
  {
   "cell_type": "markdown",
   "id": "d11df00d",
   "metadata": {},
   "source": [
    "Read in the images"
   ]
  },
  {
   "cell_type": "code",
   "execution_count": null,
   "id": "06dda72b",
   "metadata": {},
   "outputs": [],
   "source": [
    "# define file names\n",
    "fdata_f105w = \"hlsp_hudf12_hst_wfc3ir_udfmain_f105w_v1.0_drz.fits\"\n",
    "fdata_f125w = \"hlsp_hudf12_hst_wfc3ir_udfmain_f125w_v1.0_drz.fits\"\n",
    "fdata_f160w = \"hlsp_hudf12_hst_wfc3ir_udfmain_f160w_v1.0_drz.fits\"\n",
    "\n",
    "# read in data\n",
    "hdu_2 = fits.open(fdata_f105w)\n",
    "hdu_3 = fits.open(fdata_f125w)\n",
    "hdu_4 = fits.open(fdata_f160w)\n",
    "\n",
    "# get the image data\n",
    "data_2 = hdu_2[0].data\n",
    "data_3 = hdu_3[0].data\n",
    "data_4 = hdu_4[0].data"
   ]
  },
  {
   "cell_type": "code",
   "execution_count": null,
   "id": "64e45980",
   "metadata": {},
   "outputs": [],
   "source": [
    "# look at the data, linear scaling\n",
    "f = plt.figure(figsize=(10,10))\n",
    "plt.imshow(data_2)"
   ]
  },
  {
   "cell_type": "code",
   "execution_count": null,
   "id": "2b8f962d",
   "metadata": {},
   "outputs": [],
   "source": [
    "# rescale data to see faint objects\n",
    "def rescale_image(data):\n",
    "    pdata_tmp = data.copy()\n",
    "    m = np.nanmean(pdata_tmp)\n",
    "    vplmin = m/2.\n",
    "    vpmin = np.log10(vplmin)\n",
    "    vpmax = np.log10(m * 100.)\n",
    "    pdata_tmp[pdata_tmp<vplmin] = vplmin\n",
    "    pdata_tmp = np.log10(pdata_tmp)\n",
    "    return pdata_tmp, vpmin, vpmax"
   ]
  },
  {
   "cell_type": "code",
   "execution_count": null,
   "id": "9143e4d0",
   "metadata": {},
   "outputs": [],
   "source": [
    "# function to plot the rescaled data\n",
    "def fits_quicklook(data, fnx=10, fny=10):\n",
    "    f = plt.figure(figsize=(fnx,fny))\n",
    "    pdata_tmp, vpmin, vpmax = rescale_image(data)\n",
    "    plt.imshow(pdata_tmp, vmin=vpmin, vmax=vpmax)"
   ]
  },
  {
   "cell_type": "code",
   "execution_count": null,
   "id": "21505649",
   "metadata": {},
   "outputs": [],
   "source": [
    "fits_quicklook(data_2)"
   ]
  },
  {
   "cell_type": "markdown",
   "id": "c0a3da01",
   "metadata": {},
   "source": [
    "#### 3 color image from the data"
   ]
  },
  {
   "cell_type": "code",
   "execution_count": null,
   "id": "376689cf",
   "metadata": {},
   "outputs": [],
   "source": [
    "# use the rescaled images\n",
    "data_2_res, d2min, d2max = rescale_image(data_2)\n",
    "data_3_res, d3min, d3max = rescale_image(data_3)\n",
    "data_4_res, d4min, d4max = rescale_image(data_4)"
   ]
  },
  {
   "cell_type": "markdown",
   "id": "d6169d8c",
   "metadata": {},
   "source": [
    "Limit the data to be between the min and max values in the rescaling"
   ]
  },
  {
   "cell_type": "code",
   "execution_count": null,
   "id": "4ba003bb",
   "metadata": {},
   "outputs": [],
   "source": [
    "data_2_res[data_2_res < d2min] = d2min\n",
    "data_2_res[data_2_res > d2max] = d2max\n",
    "data_3_res[data_3_res < d2min] = d3min\n",
    "data_3_res[data_3_res > d2max] = d3max\n",
    "data_4_res[data_4_res < d2min] = d4min\n",
    "data_4_res[data_4_res > d2max] = d4max"
   ]
  },
  {
   "cell_type": "markdown",
   "id": "4a9c10a9",
   "metadata": {},
   "source": [
    "Create an RGB image that's nx x ny x 3 in size"
   ]
  },
  {
   "cell_type": "code",
   "execution_count": null,
   "id": "5eb7e845",
   "metadata": {},
   "outputs": [],
   "source": [
    "rgb = np.zeros((data_2_res.shape[0], data_2_res.shape[1], 3))\n",
    "rgb[:,:,0] = (data_2_res-d2min)/(d2max-d2min)\n",
    "rgb[:,:,1] = (data_3_res-d3min)/(d3max-d3min)\n",
    "rgb[:,:,2] = (data_4_res-d4min)/(d4max-d4min)"
   ]
  },
  {
   "cell_type": "markdown",
   "id": "3bb7e794",
   "metadata": {},
   "source": [
    "Plot the RGB image and save as PNG"
   ]
  },
  {
   "cell_type": "code",
   "execution_count": null,
   "id": "898abebd",
   "metadata": {},
   "outputs": [],
   "source": [
    "f,ax = plt.subplots(1,1,figsize=(20,20))\n",
    "ax.axis('off')\n",
    "ax.imshow(rgb)\n",
    "plt.savefig('rgb_image.png', bbox_inches='tight',pad_inches=0,dpi=600)"
   ]
  },
  {
   "cell_type": "code",
   "execution_count": null,
   "id": "89437bdc",
   "metadata": {},
   "outputs": [],
   "source": []
  }
 ],
 "metadata": {
  "kernelspec": {
   "display_name": "Python 3 (ipykernel)",
   "language": "python",
   "name": "python3"
  },
  "language_info": {
   "codemirror_mode": {
    "name": "ipython",
    "version": 3
   },
   "file_extension": ".py",
   "mimetype": "text/x-python",
   "name": "python",
   "nbconvert_exporter": "python",
   "pygments_lexer": "ipython3",
   "version": "3.10.4"
  }
 },
 "nbformat": 4,
 "nbformat_minor": 5
}
